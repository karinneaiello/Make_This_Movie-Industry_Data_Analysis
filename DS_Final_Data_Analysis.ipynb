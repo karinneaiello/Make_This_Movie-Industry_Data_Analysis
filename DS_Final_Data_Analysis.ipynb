{
 "cells": [
  {
   "cell_type": "markdown",
   "id": "6edcda15",
   "metadata": {},
   "source": [
    "Karinne from DS1010 Group 4's Python code for the final "
   ]
  },
  {
   "cell_type": "code",
   "execution_count": null,
   "id": "608b015b",
   "metadata": {},
   "outputs": [],
   "source": [
    "import matplotlib.pyplot as plt\n",
    "from mpl_toolkits.mplot3d import Axes3D\n",
    "import numpy as np\n",
    "import pandas as pd"
   ]
  },
  {
   "cell_type": "code",
   "execution_count": null,
   "id": "a8d4f171",
   "metadata": {},
   "outputs": [],
   "source": [
    "data = pd.read_excel (r'C:\\Users\\koeys\\Downloads\\DS1010 Final Group 4\\DS1010 Final Group 4 Python Files\\DS1010_Filtered_Dataset.xlsx')\n",
    "franchise_data = pd.read_excel(r'C:\\Users\\koeys\\Downloads\\DS1010 Final Group 4\\DS1010 Final Group 4 Python Files\\Top 100 Net Movies.xlsx')\n",
    "data"
   ]
  },
  {
   "cell_type": "code",
   "execution_count": null,
   "id": "b3bb12ce",
   "metadata": {},
   "outputs": [],
   "source": [
    "data.describe()"
   ]
  },
  {
   "cell_type": "code",
   "execution_count": null,
   "id": "6ec752da",
   "metadata": {},
   "outputs": [],
   "source": [
    "budget_gross_df = data[['budget _inflated','gross_inflated']].copy()\n",
    "budget_gross_df"
   ]
  },
  {
   "cell_type": "code",
   "execution_count": null,
   "id": "d4caeb15",
   "metadata": {},
   "outputs": [],
   "source": [
    "data_norm = (budget_gross_df-budget_gross_df.min())/(budget_gross_df.max()-budget_gross_df.min())\n",
    "data_norm"
   ]
  },
  {
   "cell_type": "markdown",
   "id": "112f75a0",
   "metadata": {},
   "source": [
    "## Making CSVs"
   ]
  },
  {
   "cell_type": "code",
   "execution_count": null,
   "id": "078da54d",
   "metadata": {},
   "outputs": [],
   "source": [
    "avg_net_profit_by_director = data.groupby('director')['net_inflated'].mean()\n",
    "sorted_director_net = avg_net_profit_by_director.sort_values(ascending=False)\n",
    "sorted_director_net.to_csv('sorted_average_net_profit_by_director.csv', header=True)\n",
    "print(sorted_director_net)"
   ]
  },
  {
   "cell_type": "code",
   "execution_count": null,
   "id": "c4b007de",
   "metadata": {},
   "outputs": [],
   "source": [
    "avg_net_profit_by_writer = data.groupby('writer')['net_inflated'].mean()\n",
    "sorted_writer_net = avg_net_profit_by_writer.sort_values(ascending=False)\n",
    "sorted_writer_net.to_csv('sorted_average_net_profit_by_writer.csv', header=True)\n",
    "print(sorted_writer_net)"
   ]
  },
  {
   "cell_type": "code",
   "execution_count": null,
   "id": "b4e89593",
   "metadata": {
    "scrolled": true
   },
   "outputs": [],
   "source": [
    "avg_net_profit_by_star = data.groupby('star')['net_inflated'].mean()\n",
    "sorted_star_net = avg_net_profit_by_star.sort_values(ascending=False)\n",
    "sorted_star_net.to_csv('sorted_average_net_profit_by_star.csv', header=True)\n",
    "print(sorted_star_net)"
   ]
  },
  {
   "cell_type": "code",
   "execution_count": null,
   "id": "8b0faaed",
   "metadata": {},
   "outputs": [],
   "source": [
    "avg_net_profit_by_company = data.groupby('company')['net_inflated'].mean()\n",
    "sorted_company_net = avg_net_profit_by_company.sort_values(ascending=False)\n",
    "sorted_company_net.to_csv('sorted_average_net_profit_by_company.csv', header=True)\n",
    "print(sorted_company_net)"
   ]
  },
  {
   "cell_type": "code",
   "execution_count": null,
   "id": "48c48282",
   "metadata": {},
   "outputs": [],
   "source": [
    "avg_net_profit_by_year_genre = data.groupby(['year', 'genre'])['net_inflated'].mean()\n",
    "avg_net_profit_by_year_genre.to_csv('average_net_profit_by_year_genre.csv', header=True)\n",
    "print(avg_net_profit_by_year_genre)"
   ]
  },
  {
   "cell_type": "code",
   "execution_count": null,
   "id": "5f70b071",
   "metadata": {},
   "outputs": [],
   "source": [
    "avg_net_profit_by_year_rating = data.groupby(['year', 'rating'])['net_inflated'].mean()\n",
    "avg_net_profit_by_year_rating.to_csv('average_net_profit_by_year_rating.csv', header=True)\n",
    "print(avg_net_profit_by_year_rating)"
   ]
  },
  {
   "cell_type": "code",
   "execution_count": null,
   "id": "0ed6a95e",
   "metadata": {},
   "outputs": [],
   "source": [
    "avg_net_profit_by_year_franchise = franchise_data.groupby(['year', 'Franchises'])['net_inflated'].mean()\n",
    "avg_net_profit_by_year_franchise.to_csv('average_net_profit_by_year_franchise.csv', header=True)\n",
    "print(avg_net_profit_by_year_franchise)"
   ]
  },
  {
   "cell_type": "markdown",
   "id": "5179364c",
   "metadata": {},
   "source": [
    "## Modes"
   ]
  },
  {
   "cell_type": "code",
   "execution_count": null,
   "id": "60d407e3",
   "metadata": {},
   "outputs": [],
   "source": [
    "rating_mode = data['rating'].mode()\n",
    "print(rating_mode)"
   ]
  },
  {
   "cell_type": "code",
   "execution_count": null,
   "id": "262c4fd7",
   "metadata": {},
   "outputs": [],
   "source": [
    "genre_mode = data['genre'].mode()\n",
    "print(genre_mode)"
   ]
  },
  {
   "cell_type": "code",
   "execution_count": null,
   "id": "ac3a55b7",
   "metadata": {},
   "outputs": [],
   "source": [
    "year_mode = data['year'].mode()\n",
    "print(year_mode)"
   ]
  },
  {
   "cell_type": "code",
   "execution_count": null,
   "id": "168237c9",
   "metadata": {},
   "outputs": [],
   "source": [
    "director_mode = data['director'].mode()\n",
    "print(director_mode)"
   ]
  },
  {
   "cell_type": "code",
   "execution_count": null,
   "id": "905f6ea6",
   "metadata": {},
   "outputs": [],
   "source": [
    "writer_mode = data['writer'].mode()\n",
    "print(writer_mode)"
   ]
  },
  {
   "cell_type": "code",
   "execution_count": null,
   "id": "b7bafdc8",
   "metadata": {},
   "outputs": [],
   "source": [
    "star_mode = data['star'].mode()\n",
    "print(star_mode)"
   ]
  },
  {
   "cell_type": "code",
   "execution_count": null,
   "id": "2c67acd0",
   "metadata": {},
   "outputs": [],
   "source": [
    "company_mode = data['company'].mode()\n",
    "print(company_mode)"
   ]
  },
  {
   "cell_type": "code",
   "execution_count": null,
   "id": "1d2e3ec2",
   "metadata": {},
   "outputs": [],
   "source": [
    "runtime_mode = data['runtime'].mode()\n",
    "print(runtime_mode)"
   ]
  },
  {
   "cell_type": "code",
   "execution_count": null,
   "id": "34732712",
   "metadata": {},
   "outputs": [],
   "source": [
    "franchise_mode = data['franchise'].mode()\n",
    "print(franchise_mode)"
   ]
  },
  {
   "cell_type": "markdown",
   "id": "30855112",
   "metadata": {},
   "source": [
    "## Linear Regression"
   ]
  },
  {
   "cell_type": "code",
   "execution_count": null,
   "id": "117699f7",
   "metadata": {},
   "outputs": [],
   "source": [
    "X = data_norm.loc[:,['budget _inflated']]\n",
    "y = data_norm.loc[:,['gross_inflated']]"
   ]
  },
  {
   "cell_type": "code",
   "execution_count": null,
   "id": "d5e3746f",
   "metadata": {},
   "outputs": [],
   "source": [
    "from sklearn.model_selection import train_test_split\n",
    "\n",
    "X_train, X_test, y_train, y_test = train_test_split(X, y, test_size=0.2)"
   ]
  },
  {
   "cell_type": "code",
   "execution_count": null,
   "id": "c5fa0835",
   "metadata": {},
   "outputs": [],
   "source": [
    "from sklearn.linear_model import LinearRegression\n",
    "lin_reg_model = LinearRegression(fit_intercept=True)\n",
    "lin_reg_model.fit(X_train,y_train)"
   ]
  },
  {
   "cell_type": "code",
   "execution_count": null,
   "id": "320c90b3",
   "metadata": {},
   "outputs": [],
   "source": [
    "# Print slope and intercepts\n",
    "\n",
    "# Beta_0\n",
    "print(lin_reg_model.intercept_)\n",
    "# Beta_1\n",
    "print(lin_reg_model.coef_)"
   ]
  },
  {
   "cell_type": "code",
   "execution_count": null,
   "id": "f7753e58",
   "metadata": {},
   "outputs": [],
   "source": [
    "# display the mean_squared_error of the model using training and testing data\n",
    "\n",
    "from sklearn.metrics import mean_squared_error\n",
    "print('training error')\n",
    "print(mean_squared_error(y_train,lin_reg_model.predict(X_train)))\n",
    "print('testing error')\n",
    "print(mean_squared_error(y_test,lin_reg_model.predict(X_test)))"
   ]
  },
  {
   "cell_type": "code",
   "execution_count": null,
   "id": "beff222c",
   "metadata": {
    "scrolled": true
   },
   "outputs": [],
   "source": [
    "# use the trained linear regression model in the real-world\n",
    "budget = 20000000\n",
    "norm_budget = (budget - budget_gross_df['budget _inflated'].min())/(budget_gross_df['budget _inflated'].max() - budget_gross_df['budget _inflated'].min())\n",
    "new_movie = pd.DataFrame({'budget _inflated': [norm_budget]})\n",
    "norm_predicted_gross = lin_reg_model.predict(new_movie)\n",
    "norm_predicted_gross_value = norm_predicted_gross[0][0]\n",
    "predicted_gross = norm_predicted_gross_value * (budget_gross_df['gross_inflated'].max() - budget_gross_df['gross_inflated'].min()) + budget_gross_df['gross_inflated'].min()\n",
    "print(predicted_gross)"
   ]
  },
  {
   "cell_type": "code",
   "execution_count": null,
   "id": "ddcfa283",
   "metadata": {
    "scrolled": false
   },
   "outputs": [],
   "source": [
    "# y_pred stores the predicted values using X_test as input\n",
    "y_pred = lin_reg_model.predict(X_test)\n",
    "\n",
    "# Plot X_train and y_train using a scatter plot; color them green\n",
    "# hint: plt.scatter(...)\n",
    "plt.scatter(X_train, y_train, color='green', label='Train Points')\n",
    "\n",
    "# Plot X_test and y_test using a scatter plot; color them red\n",
    "plt.scatter(X_test, y_test, color='blue', label='Test Points')\n",
    "\n",
    "# Plot the regression line\n",
    "plt.plot(X_test, y_pred, color='black', linewidth=2, label='Linear Regression Line')\n",
    "\n",
    "# Set labels and title\n",
    "plt.xlabel('Budget')\n",
    "plt.ylabel('Gross')\n",
    "plt.title('Simple Linear Regression of How the Budget of a Movie Affects the Gross')\n",
    "\n",
    "# Add a legend\n",
    "plt.legend()\n",
    "plt.grid()\n",
    "\n",
    "# Show the plot\n",
    "plt.show()"
   ]
  },
  {
   "cell_type": "code",
   "execution_count": null,
   "id": "7fb4c29c",
   "metadata": {},
   "outputs": [],
   "source": [
    "import seaborn as sns\n",
    "plt.style.use('seaborn-whitegrid')"
   ]
  },
  {
   "cell_type": "markdown",
   "id": "f01f9534",
   "metadata": {},
   "source": [
    "## Correlation"
   ]
  },
  {
   "cell_type": "code",
   "execution_count": null,
   "id": "ad6979ed",
   "metadata": {},
   "outputs": [],
   "source": [
    "data_features = data[['budget _inflated','gross_inflated','runtime','year']].copy()\n",
    "data_corr = data_features.corr()\n",
    "ax = sns.heatmap(\n",
    "    data_corr, \n",
    "    vmin=-1, vmax=1, center=0,\n",
    "    square=True\n",
    ")\n",
    "\n",
    "ax.set_xticklabels(\n",
    "    ax.get_xticklabels(),\n",
    "    rotation=45,\n",
    "    horizontalalignment='right'\n",
    ");"
   ]
  },
  {
   "cell_type": "code",
   "execution_count": null,
   "id": "f56fccb9",
   "metadata": {},
   "outputs": [],
   "source": []
  }
 ],
 "metadata": {
  "kernelspec": {
   "display_name": "Python 3 (ipykernel)",
   "language": "python",
   "name": "python3"
  },
  "language_info": {
   "codemirror_mode": {
    "name": "ipython",
    "version": 3
   },
   "file_extension": ".py",
   "mimetype": "text/x-python",
   "name": "python",
   "nbconvert_exporter": "python",
   "pygments_lexer": "ipython3",
   "version": "3.11.5"
  }
 },
 "nbformat": 4,
 "nbformat_minor": 5
}
