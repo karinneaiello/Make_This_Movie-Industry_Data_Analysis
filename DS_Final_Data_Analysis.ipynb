{
 "cells": [
  {
   "cell_type": "markdown",
   "id": "6edcda15",
   "metadata": {},
   "source": [
    "Karinne from DS1010 Group 4's Python code for the final "
   ]
  },
  {
   "cell_type": "code",
   "execution_count": 1,
   "id": "608b015b",
   "metadata": {},
   "outputs": [],
   "source": [
    "import matplotlib.pyplot as plt\n",
    "from mpl_toolkits.mplot3d import Axes3D\n",
    "import numpy as np\n",
    "import pandas as pd"
   ]
  },
  {
   "cell_type": "code",
   "execution_count": 2,
   "id": "a8d4f171",
   "metadata": {},
   "outputs": [
    {
     "data": {
      "text/html": [
       "<div>\n",
       "<style scoped>\n",
       "    .dataframe tbody tr th:only-of-type {\n",
       "        vertical-align: middle;\n",
       "    }\n",
       "\n",
       "    .dataframe tbody tr th {\n",
       "        vertical-align: top;\n",
       "    }\n",
       "\n",
       "    .dataframe thead th {\n",
       "        text-align: right;\n",
       "    }\n",
       "</style>\n",
       "<table border=\"1\" class=\"dataframe\">\n",
       "  <thead>\n",
       "    <tr style=\"text-align: right;\">\n",
       "      <th></th>\n",
       "      <th>name</th>\n",
       "      <th>rating</th>\n",
       "      <th>genre</th>\n",
       "      <th>year</th>\n",
       "      <th>director</th>\n",
       "      <th>writer</th>\n",
       "      <th>star</th>\n",
       "      <th>budget</th>\n",
       "      <th>gross</th>\n",
       "      <th>company</th>\n",
       "      <th>runtime</th>\n",
       "      <th>budget _inflated</th>\n",
       "      <th>gross_inflated</th>\n",
       "      <th>net_inflated</th>\n",
       "      <th>franchise</th>\n",
       "    </tr>\n",
       "  </thead>\n",
       "  <tbody>\n",
       "    <tr>\n",
       "      <th>0</th>\n",
       "      <td>Avatar</td>\n",
       "      <td>PG-13</td>\n",
       "      <td>Action</td>\n",
       "      <td>2009</td>\n",
       "      <td>James Cameron</td>\n",
       "      <td>James Cameron</td>\n",
       "      <td>Sam Worthington</td>\n",
       "      <td>237000000</td>\n",
       "      <td>2847246203</td>\n",
       "      <td>Twentieth Century Fox</td>\n",
       "      <td>162</td>\n",
       "      <td>282030000.0</td>\n",
       "      <td>3.388223e+09</td>\n",
       "      <td>3.106193e+09</td>\n",
       "      <td>No</td>\n",
       "    </tr>\n",
       "    <tr>\n",
       "      <th>1</th>\n",
       "      <td>Avengers: Endgame</td>\n",
       "      <td>PG-13</td>\n",
       "      <td>Action</td>\n",
       "      <td>2019</td>\n",
       "      <td>Anthony Russo</td>\n",
       "      <td>Christopher Markus</td>\n",
       "      <td>Robert Downey Jr.</td>\n",
       "      <td>356000000</td>\n",
       "      <td>2797501328</td>\n",
       "      <td>Marvel Studios</td>\n",
       "      <td>181</td>\n",
       "      <td>356000000.0</td>\n",
       "      <td>2.797501e+09</td>\n",
       "      <td>2.441501e+09</td>\n",
       "      <td>Yes</td>\n",
       "    </tr>\n",
       "    <tr>\n",
       "      <th>2</th>\n",
       "      <td>Star Wars: Episode VII - The Force Awakens</td>\n",
       "      <td>PG-13</td>\n",
       "      <td>Action</td>\n",
       "      <td>2015</td>\n",
       "      <td>J.J. Abrams</td>\n",
       "      <td>Lawrence Kasdan</td>\n",
       "      <td>Daisy Ridley</td>\n",
       "      <td>245000000</td>\n",
       "      <td>2069521700</td>\n",
       "      <td>Lucasfilm</td>\n",
       "      <td>138</td>\n",
       "      <td>264600000.0</td>\n",
       "      <td>2.235083e+09</td>\n",
       "      <td>1.970483e+09</td>\n",
       "      <td>Yes</td>\n",
       "    </tr>\n",
       "    <tr>\n",
       "      <th>3</th>\n",
       "      <td>Avengers: Infinity War</td>\n",
       "      <td>PG-13</td>\n",
       "      <td>Action</td>\n",
       "      <td>2018</td>\n",
       "      <td>Anthony Russo</td>\n",
       "      <td>Christopher Markus</td>\n",
       "      <td>Robert Downey Jr.</td>\n",
       "      <td>321000000</td>\n",
       "      <td>2048359754</td>\n",
       "      <td>Marvel Studios</td>\n",
       "      <td>149</td>\n",
       "      <td>327420000.0</td>\n",
       "      <td>2.089327e+09</td>\n",
       "      <td>1.761907e+09</td>\n",
       "      <td>Yes</td>\n",
       "    </tr>\n",
       "    <tr>\n",
       "      <th>4</th>\n",
       "      <td>Jurassic World</td>\n",
       "      <td>PG-13</td>\n",
       "      <td>Action</td>\n",
       "      <td>2015</td>\n",
       "      <td>Colin Trevorrow</td>\n",
       "      <td>Rick Jaffa</td>\n",
       "      <td>Chris Pratt</td>\n",
       "      <td>150000000</td>\n",
       "      <td>1670516444</td>\n",
       "      <td>Universal Pictures</td>\n",
       "      <td>124</td>\n",
       "      <td>162000000.0</td>\n",
       "      <td>1.804158e+09</td>\n",
       "      <td>1.642158e+09</td>\n",
       "      <td>Yes</td>\n",
       "    </tr>\n",
       "    <tr>\n",
       "      <th>...</th>\n",
       "      <td>...</td>\n",
       "      <td>...</td>\n",
       "      <td>...</td>\n",
       "      <td>...</td>\n",
       "      <td>...</td>\n",
       "      <td>...</td>\n",
       "      <td>...</td>\n",
       "      <td>...</td>\n",
       "      <td>...</td>\n",
       "      <td>...</td>\n",
       "      <td>...</td>\n",
       "      <td>...</td>\n",
       "      <td>...</td>\n",
       "      <td>...</td>\n",
       "      <td>...</td>\n",
       "    </tr>\n",
       "    <tr>\n",
       "      <th>3116</th>\n",
       "      <td>Jin ling shi san chai</td>\n",
       "      <td>R</td>\n",
       "      <td>Drama</td>\n",
       "      <td>2011</td>\n",
       "      <td>Yimou Zhang</td>\n",
       "      <td>Heng Liu</td>\n",
       "      <td>Christian Bale</td>\n",
       "      <td>94000000</td>\n",
       "      <td>2855644</td>\n",
       "      <td>Beijing New Picture Film</td>\n",
       "      <td>146</td>\n",
       "      <td>107160000.0</td>\n",
       "      <td>3.255434e+06</td>\n",
       "      <td>-1.039046e+08</td>\n",
       "      <td>No</td>\n",
       "    </tr>\n",
       "    <tr>\n",
       "      <th>3117</th>\n",
       "      <td>The Alamo</td>\n",
       "      <td>PG-13</td>\n",
       "      <td>Drama</td>\n",
       "      <td>2004</td>\n",
       "      <td>John Lee Hancock</td>\n",
       "      <td>Leslie Bohem</td>\n",
       "      <td>Dennis Quaid</td>\n",
       "      <td>107000000</td>\n",
       "      <td>25819961</td>\n",
       "      <td>Touchstone Pictures</td>\n",
       "      <td>137</td>\n",
       "      <td>144450000.0</td>\n",
       "      <td>3.485695e+07</td>\n",
       "      <td>-1.095931e+08</td>\n",
       "      <td>No</td>\n",
       "    </tr>\n",
       "    <tr>\n",
       "      <th>3118</th>\n",
       "      <td>Supernova</td>\n",
       "      <td>PG-13</td>\n",
       "      <td>Horror</td>\n",
       "      <td>2000</td>\n",
       "      <td>Walter Hill</td>\n",
       "      <td>William Malone</td>\n",
       "      <td>James Spader</td>\n",
       "      <td>90000000</td>\n",
       "      <td>14828081</td>\n",
       "      <td>Hammerhead Productions</td>\n",
       "      <td>90</td>\n",
       "      <td>133200000.0</td>\n",
       "      <td>2.194556e+07</td>\n",
       "      <td>-1.112544e+08</td>\n",
       "      <td>No</td>\n",
       "    </tr>\n",
       "    <tr>\n",
       "      <th>3119</th>\n",
       "      <td>The Adventures of Pluto Nash</td>\n",
       "      <td>PG-13</td>\n",
       "      <td>Action</td>\n",
       "      <td>2002</td>\n",
       "      <td>Ron Underwood</td>\n",
       "      <td>Neil Cuthbert</td>\n",
       "      <td>Eddie Murphy</td>\n",
       "      <td>100000000</td>\n",
       "      <td>7103973</td>\n",
       "      <td>Castle Rock Entertainment</td>\n",
       "      <td>95</td>\n",
       "      <td>142000000.0</td>\n",
       "      <td>1.008764e+07</td>\n",
       "      <td>-1.319124e+08</td>\n",
       "      <td>No</td>\n",
       "    </tr>\n",
       "    <tr>\n",
       "      <th>3120</th>\n",
       "      <td>The Irishman</td>\n",
       "      <td>R</td>\n",
       "      <td>Biography</td>\n",
       "      <td>2019</td>\n",
       "      <td>Martin Scorsese</td>\n",
       "      <td>Steven Zaillian</td>\n",
       "      <td>Robert De Niro</td>\n",
       "      <td>159000000</td>\n",
       "      <td>968853</td>\n",
       "      <td>Tribeca Productions</td>\n",
       "      <td>209</td>\n",
       "      <td>159000000.0</td>\n",
       "      <td>9.688530e+05</td>\n",
       "      <td>-1.580311e+08</td>\n",
       "      <td>No</td>\n",
       "    </tr>\n",
       "  </tbody>\n",
       "</table>\n",
       "<p>3121 rows × 15 columns</p>\n",
       "</div>"
      ],
      "text/plain": [
       "                                            name rating      genre  year  \\\n",
       "0                                         Avatar  PG-13     Action  2009   \n",
       "1                              Avengers: Endgame  PG-13     Action  2019   \n",
       "2     Star Wars: Episode VII - The Force Awakens  PG-13     Action  2015   \n",
       "3                         Avengers: Infinity War  PG-13     Action  2018   \n",
       "4                                 Jurassic World  PG-13     Action  2015   \n",
       "...                                          ...    ...        ...   ...   \n",
       "3116                       Jin ling shi san chai      R      Drama  2011   \n",
       "3117                                   The Alamo  PG-13      Drama  2004   \n",
       "3118                                   Supernova  PG-13     Horror  2000   \n",
       "3119                The Adventures of Pluto Nash  PG-13     Action  2002   \n",
       "3120                                The Irishman      R  Biography  2019   \n",
       "\n",
       "              director              writer               star     budget  \\\n",
       "0        James Cameron       James Cameron    Sam Worthington  237000000   \n",
       "1        Anthony Russo  Christopher Markus  Robert Downey Jr.  356000000   \n",
       "2          J.J. Abrams     Lawrence Kasdan       Daisy Ridley  245000000   \n",
       "3        Anthony Russo  Christopher Markus  Robert Downey Jr.  321000000   \n",
       "4      Colin Trevorrow          Rick Jaffa        Chris Pratt  150000000   \n",
       "...                ...                 ...                ...        ...   \n",
       "3116       Yimou Zhang            Heng Liu     Christian Bale   94000000   \n",
       "3117  John Lee Hancock        Leslie Bohem       Dennis Quaid  107000000   \n",
       "3118       Walter Hill      William Malone       James Spader   90000000   \n",
       "3119     Ron Underwood       Neil Cuthbert       Eddie Murphy  100000000   \n",
       "3120   Martin Scorsese     Steven Zaillian     Robert De Niro  159000000   \n",
       "\n",
       "           gross                    company  runtime  budget _inflated  \\\n",
       "0     2847246203      Twentieth Century Fox      162       282030000.0   \n",
       "1     2797501328             Marvel Studios      181       356000000.0   \n",
       "2     2069521700                  Lucasfilm      138       264600000.0   \n",
       "3     2048359754             Marvel Studios      149       327420000.0   \n",
       "4     1670516444         Universal Pictures      124       162000000.0   \n",
       "...          ...                        ...      ...               ...   \n",
       "3116     2855644   Beijing New Picture Film      146       107160000.0   \n",
       "3117    25819961        Touchstone Pictures      137       144450000.0   \n",
       "3118    14828081     Hammerhead Productions       90       133200000.0   \n",
       "3119     7103973  Castle Rock Entertainment       95       142000000.0   \n",
       "3120      968853        Tribeca Productions      209       159000000.0   \n",
       "\n",
       "      gross_inflated  net_inflated franchise  \n",
       "0       3.388223e+09  3.106193e+09        No  \n",
       "1       2.797501e+09  2.441501e+09       Yes  \n",
       "2       2.235083e+09  1.970483e+09       Yes  \n",
       "3       2.089327e+09  1.761907e+09       Yes  \n",
       "4       1.804158e+09  1.642158e+09       Yes  \n",
       "...              ...           ...       ...  \n",
       "3116    3.255434e+06 -1.039046e+08        No  \n",
       "3117    3.485695e+07 -1.095931e+08        No  \n",
       "3118    2.194556e+07 -1.112544e+08        No  \n",
       "3119    1.008764e+07 -1.319124e+08        No  \n",
       "3120    9.688530e+05 -1.580311e+08        No  \n",
       "\n",
       "[3121 rows x 15 columns]"
      ]
     },
     "execution_count": 2,
     "metadata": {},
     "output_type": "execute_result"
    }
   ],
   "source": [
    "data = pd.read_excel (r'C:\\Users\\koeys\\Downloads\\DS1010 Final Group 4\\DS1010 Final Group 4 Python Files\\DS1010_Filtered_Dataset.xlsx')\n",
    "franchise_data = pd.read_excel(r'C:\\Users\\koeys\\Downloads\\DS1010 Final Group 4\\DS1010 Final Group 4 Python Files\\Top 100 Net Movies.xlsx')\n",
    "data"
   ]
  },
  {
   "cell_type": "code",
   "execution_count": 3,
   "id": "b3bb12ce",
   "metadata": {},
   "outputs": [
    {
     "data": {
      "text/html": [
       "<div>\n",
       "<style scoped>\n",
       "    .dataframe tbody tr th:only-of-type {\n",
       "        vertical-align: middle;\n",
       "    }\n",
       "\n",
       "    .dataframe tbody tr th {\n",
       "        vertical-align: top;\n",
       "    }\n",
       "\n",
       "    .dataframe thead th {\n",
       "        text-align: right;\n",
       "    }\n",
       "</style>\n",
       "<table border=\"1\" class=\"dataframe\">\n",
       "  <thead>\n",
       "    <tr style=\"text-align: right;\">\n",
       "      <th></th>\n",
       "      <th>year</th>\n",
       "      <th>budget</th>\n",
       "      <th>gross</th>\n",
       "      <th>runtime</th>\n",
       "      <th>budget _inflated</th>\n",
       "      <th>gross_inflated</th>\n",
       "      <th>net_inflated</th>\n",
       "    </tr>\n",
       "  </thead>\n",
       "  <tbody>\n",
       "    <tr>\n",
       "      <th>count</th>\n",
       "      <td>3121.000000</td>\n",
       "      <td>3.121000e+03</td>\n",
       "      <td>3.121000e+03</td>\n",
       "      <td>3121.000000</td>\n",
       "      <td>3.121000e+03</td>\n",
       "      <td>3.121000e+03</td>\n",
       "      <td>3.121000e+03</td>\n",
       "    </tr>\n",
       "    <tr>\n",
       "      <th>mean</th>\n",
       "      <td>2009.187120</td>\n",
       "      <td>4.639433e+07</td>\n",
       "      <td>1.402522e+08</td>\n",
       "      <td>108.710670</td>\n",
       "      <td>5.550553e+07</td>\n",
       "      <td>1.646373e+08</td>\n",
       "      <td>1.091318e+08</td>\n",
       "    </tr>\n",
       "    <tr>\n",
       "      <th>std</th>\n",
       "      <td>5.632971</td>\n",
       "      <td>4.866712e+07</td>\n",
       "      <td>2.223841e+08</td>\n",
       "      <td>17.464706</td>\n",
       "      <td>5.634255e+07</td>\n",
       "      <td>2.512959e+08</td>\n",
       "      <td>2.131925e+08</td>\n",
       "    </tr>\n",
       "    <tr>\n",
       "      <th>min</th>\n",
       "      <td>2000.000000</td>\n",
       "      <td>7.000000e+03</td>\n",
       "      <td>5.073000e+03</td>\n",
       "      <td>63.000000</td>\n",
       "      <td>9.450000e+03</td>\n",
       "      <td>6.036870e+03</td>\n",
       "      <td>-1.580311e+08</td>\n",
       "    </tr>\n",
       "    <tr>\n",
       "      <th>25%</th>\n",
       "      <td>2004.000000</td>\n",
       "      <td>1.400000e+07</td>\n",
       "      <td>2.110775e+07</td>\n",
       "      <td>96.000000</td>\n",
       "      <td>1.665000e+07</td>\n",
       "      <td>2.620168e+07</td>\n",
       "      <td>3.666876e+05</td>\n",
       "    </tr>\n",
       "    <tr>\n",
       "      <th>50%</th>\n",
       "      <td>2009.000000</td>\n",
       "      <td>3.000000e+07</td>\n",
       "      <td>6.283221e+07</td>\n",
       "      <td>106.000000</td>\n",
       "      <td>3.570000e+07</td>\n",
       "      <td>7.713007e+07</td>\n",
       "      <td>3.690706e+07</td>\n",
       "    </tr>\n",
       "    <tr>\n",
       "      <th>75%</th>\n",
       "      <td>2014.000000</td>\n",
       "      <td>6.000000e+07</td>\n",
       "      <td>1.600992e+08</td>\n",
       "      <td>119.000000</td>\n",
       "      <td>7.524000e+07</td>\n",
       "      <td>1.904406e+08</td>\n",
       "      <td>1.256812e+08</td>\n",
       "    </tr>\n",
       "    <tr>\n",
       "      <th>max</th>\n",
       "      <td>2019.000000</td>\n",
       "      <td>3.560000e+08</td>\n",
       "      <td>2.847246e+09</td>\n",
       "      <td>219.000000</td>\n",
       "      <td>3.690000e+08</td>\n",
       "      <td>3.388223e+09</td>\n",
       "      <td>3.106193e+09</td>\n",
       "    </tr>\n",
       "  </tbody>\n",
       "</table>\n",
       "</div>"
      ],
      "text/plain": [
       "              year        budget         gross      runtime  budget _inflated  \\\n",
       "count  3121.000000  3.121000e+03  3.121000e+03  3121.000000      3.121000e+03   \n",
       "mean   2009.187120  4.639433e+07  1.402522e+08   108.710670      5.550553e+07   \n",
       "std       5.632971  4.866712e+07  2.223841e+08    17.464706      5.634255e+07   \n",
       "min    2000.000000  7.000000e+03  5.073000e+03    63.000000      9.450000e+03   \n",
       "25%    2004.000000  1.400000e+07  2.110775e+07    96.000000      1.665000e+07   \n",
       "50%    2009.000000  3.000000e+07  6.283221e+07   106.000000      3.570000e+07   \n",
       "75%    2014.000000  6.000000e+07  1.600992e+08   119.000000      7.524000e+07   \n",
       "max    2019.000000  3.560000e+08  2.847246e+09   219.000000      3.690000e+08   \n",
       "\n",
       "       gross_inflated  net_inflated  \n",
       "count    3.121000e+03  3.121000e+03  \n",
       "mean     1.646373e+08  1.091318e+08  \n",
       "std      2.512959e+08  2.131925e+08  \n",
       "min      6.036870e+03 -1.580311e+08  \n",
       "25%      2.620168e+07  3.666876e+05  \n",
       "50%      7.713007e+07  3.690706e+07  \n",
       "75%      1.904406e+08  1.256812e+08  \n",
       "max      3.388223e+09  3.106193e+09  "
      ]
     },
     "execution_count": 3,
     "metadata": {},
     "output_type": "execute_result"
    }
   ],
   "source": [
    "data.describe()"
   ]
  },
  {
   "cell_type": "code",
   "execution_count": 4,
   "id": "6ec752da",
   "metadata": {},
   "outputs": [
    {
     "data": {
      "text/html": [
       "<div>\n",
       "<style scoped>\n",
       "    .dataframe tbody tr th:only-of-type {\n",
       "        vertical-align: middle;\n",
       "    }\n",
       "\n",
       "    .dataframe tbody tr th {\n",
       "        vertical-align: top;\n",
       "    }\n",
       "\n",
       "    .dataframe thead th {\n",
       "        text-align: right;\n",
       "    }\n",
       "</style>\n",
       "<table border=\"1\" class=\"dataframe\">\n",
       "  <thead>\n",
       "    <tr style=\"text-align: right;\">\n",
       "      <th></th>\n",
       "      <th>budget _inflated</th>\n",
       "      <th>gross_inflated</th>\n",
       "    </tr>\n",
       "  </thead>\n",
       "  <tbody>\n",
       "    <tr>\n",
       "      <th>0</th>\n",
       "      <td>282030000.0</td>\n",
       "      <td>3.388223e+09</td>\n",
       "    </tr>\n",
       "    <tr>\n",
       "      <th>1</th>\n",
       "      <td>356000000.0</td>\n",
       "      <td>2.797501e+09</td>\n",
       "    </tr>\n",
       "    <tr>\n",
       "      <th>2</th>\n",
       "      <td>264600000.0</td>\n",
       "      <td>2.235083e+09</td>\n",
       "    </tr>\n",
       "    <tr>\n",
       "      <th>3</th>\n",
       "      <td>327420000.0</td>\n",
       "      <td>2.089327e+09</td>\n",
       "    </tr>\n",
       "    <tr>\n",
       "      <th>4</th>\n",
       "      <td>162000000.0</td>\n",
       "      <td>1.804158e+09</td>\n",
       "    </tr>\n",
       "    <tr>\n",
       "      <th>...</th>\n",
       "      <td>...</td>\n",
       "      <td>...</td>\n",
       "    </tr>\n",
       "    <tr>\n",
       "      <th>3116</th>\n",
       "      <td>107160000.0</td>\n",
       "      <td>3.255434e+06</td>\n",
       "    </tr>\n",
       "    <tr>\n",
       "      <th>3117</th>\n",
       "      <td>144450000.0</td>\n",
       "      <td>3.485695e+07</td>\n",
       "    </tr>\n",
       "    <tr>\n",
       "      <th>3118</th>\n",
       "      <td>133200000.0</td>\n",
       "      <td>2.194556e+07</td>\n",
       "    </tr>\n",
       "    <tr>\n",
       "      <th>3119</th>\n",
       "      <td>142000000.0</td>\n",
       "      <td>1.008764e+07</td>\n",
       "    </tr>\n",
       "    <tr>\n",
       "      <th>3120</th>\n",
       "      <td>159000000.0</td>\n",
       "      <td>9.688530e+05</td>\n",
       "    </tr>\n",
       "  </tbody>\n",
       "</table>\n",
       "<p>3121 rows × 2 columns</p>\n",
       "</div>"
      ],
      "text/plain": [
       "      budget _inflated  gross_inflated\n",
       "0          282030000.0    3.388223e+09\n",
       "1          356000000.0    2.797501e+09\n",
       "2          264600000.0    2.235083e+09\n",
       "3          327420000.0    2.089327e+09\n",
       "4          162000000.0    1.804158e+09\n",
       "...                ...             ...\n",
       "3116       107160000.0    3.255434e+06\n",
       "3117       144450000.0    3.485695e+07\n",
       "3118       133200000.0    2.194556e+07\n",
       "3119       142000000.0    1.008764e+07\n",
       "3120       159000000.0    9.688530e+05\n",
       "\n",
       "[3121 rows x 2 columns]"
      ]
     },
     "execution_count": 4,
     "metadata": {},
     "output_type": "execute_result"
    }
   ],
   "source": [
    "budget_gross_df = data[['budget _inflated','gross_inflated']].copy()\n",
    "budget_gross_df"
   ]
  },
  {
   "cell_type": "code",
   "execution_count": 5,
   "id": "d4caeb15",
   "metadata": {},
   "outputs": [
    {
     "data": {
      "text/html": [
       "<div>\n",
       "<style scoped>\n",
       "    .dataframe tbody tr th:only-of-type {\n",
       "        vertical-align: middle;\n",
       "    }\n",
       "\n",
       "    .dataframe tbody tr th {\n",
       "        vertical-align: top;\n",
       "    }\n",
       "\n",
       "    .dataframe thead th {\n",
       "        text-align: right;\n",
       "    }\n",
       "</style>\n",
       "<table border=\"1\" class=\"dataframe\">\n",
       "  <thead>\n",
       "    <tr style=\"text-align: right;\">\n",
       "      <th></th>\n",
       "      <th>budget _inflated</th>\n",
       "      <th>gross_inflated</th>\n",
       "    </tr>\n",
       "  </thead>\n",
       "  <tbody>\n",
       "    <tr>\n",
       "      <th>0</th>\n",
       "      <td>0.764303</td>\n",
       "      <td>1.000000</td>\n",
       "    </tr>\n",
       "    <tr>\n",
       "      <th>1</th>\n",
       "      <td>0.964769</td>\n",
       "      <td>0.825654</td>\n",
       "    </tr>\n",
       "    <tr>\n",
       "      <th>2</th>\n",
       "      <td>0.717066</td>\n",
       "      <td>0.659662</td>\n",
       "    </tr>\n",
       "    <tr>\n",
       "      <th>3</th>\n",
       "      <td>0.887314</td>\n",
       "      <td>0.616643</td>\n",
       "    </tr>\n",
       "    <tr>\n",
       "      <th>4</th>\n",
       "      <td>0.439010</td>\n",
       "      <td>0.532478</td>\n",
       "    </tr>\n",
       "    <tr>\n",
       "      <th>...</th>\n",
       "      <td>...</td>\n",
       "      <td>...</td>\n",
       "    </tr>\n",
       "    <tr>\n",
       "      <th>3116</th>\n",
       "      <td>0.290388</td>\n",
       "      <td>0.000959</td>\n",
       "    </tr>\n",
       "    <tr>\n",
       "      <th>3117</th>\n",
       "      <td>0.391448</td>\n",
       "      <td>0.010286</td>\n",
       "    </tr>\n",
       "    <tr>\n",
       "      <th>3118</th>\n",
       "      <td>0.360959</td>\n",
       "      <td>0.006475</td>\n",
       "    </tr>\n",
       "    <tr>\n",
       "      <th>3119</th>\n",
       "      <td>0.384808</td>\n",
       "      <td>0.002975</td>\n",
       "    </tr>\n",
       "    <tr>\n",
       "      <th>3120</th>\n",
       "      <td>0.430880</td>\n",
       "      <td>0.000284</td>\n",
       "    </tr>\n",
       "  </tbody>\n",
       "</table>\n",
       "<p>3121 rows × 2 columns</p>\n",
       "</div>"
      ],
      "text/plain": [
       "      budget _inflated  gross_inflated\n",
       "0             0.764303        1.000000\n",
       "1             0.964769        0.825654\n",
       "2             0.717066        0.659662\n",
       "3             0.887314        0.616643\n",
       "4             0.439010        0.532478\n",
       "...                ...             ...\n",
       "3116          0.290388        0.000959\n",
       "3117          0.391448        0.010286\n",
       "3118          0.360959        0.006475\n",
       "3119          0.384808        0.002975\n",
       "3120          0.430880        0.000284\n",
       "\n",
       "[3121 rows x 2 columns]"
      ]
     },
     "execution_count": 5,
     "metadata": {},
     "output_type": "execute_result"
    }
   ],
   "source": [
    "data_norm = (budget_gross_df-budget_gross_df.min())/(budget_gross_df.max()-budget_gross_df.min())\n",
    "data_norm"
   ]
  },
  {
   "cell_type": "markdown",
   "id": "112f75a0",
   "metadata": {},
   "source": [
    "## Making CSVs"
   ]
  },
  {
   "cell_type": "code",
   "execution_count": 6,
   "id": "078da54d",
   "metadata": {},
   "outputs": [
    {
     "name": "stdout",
     "output_type": "stream",
     "text": [
      "director\n",
      "James Cameron         3.106193e+09\n",
      "Chris Buck            1.272343e+09\n",
      "Anthony Russo         1.171055e+09\n",
      "Kyle Balda            1.082636e+09\n",
      "Joss Whedon           8.962042e+08\n",
      "                          ...     \n",
      "Jim Gillespie        -6.868202e+07\n",
      "Antony Hoffman       -6.887333e+07\n",
      "Wych Kaosayananda    -7.078004e+07\n",
      "Hironobu Sakaguchi   -7.469016e+07\n",
      "Ron Underwood        -1.319124e+08\n",
      "Name: net_inflated, Length: 1391, dtype: float64\n"
     ]
    }
   ],
   "source": [
    "avg_net_profit_by_director = data.groupby('director')['net_inflated'].mean()\n",
    "sorted_director_net = avg_net_profit_by_director.sort_values(ascending=False)\n",
    "sorted_director_net.to_csv('sorted_average_net_profit_by_director.csv', header=True)\n",
    "print(sorted_director_net)"
   ]
  },
  {
   "cell_type": "code",
   "execution_count": 7,
   "id": "c4b007de",
   "metadata": {},
   "outputs": [
    {
     "name": "stdout",
     "output_type": "stream",
     "text": [
      "writer\n",
      "Lawrence Kasdan    1.970483e+09\n",
      "James Cameron      1.670587e+09\n",
      "J.R.R. Tolkien     1.277680e+09\n",
      "Steve Kloves       1.060132e+09\n",
      "Rick Jaffa         1.042695e+09\n",
      "                       ...     \n",
      "Kaja Blackley     -9.702379e+07\n",
      "Heng Liu          -1.039046e+08\n",
      "Leslie Bohem      -1.095931e+08\n",
      "William Malone    -1.112544e+08\n",
      "Neil Cuthbert     -1.319124e+08\n",
      "Name: net_inflated, Length: 1941, dtype: float64\n"
     ]
    }
   ],
   "source": [
    "avg_net_profit_by_writer = data.groupby('writer')['net_inflated'].mean()\n",
    "sorted_writer_net = avg_net_profit_by_writer.sort_values(ascending=False)\n",
    "sorted_writer_net.to_csv('sorted_average_net_profit_by_writer.csv', header=True)\n",
    "print(sorted_writer_net)"
   ]
  },
  {
   "cell_type": "code",
   "execution_count": 8,
   "id": "b4e89593",
   "metadata": {
    "scrolled": true
   },
   "outputs": [
    {
     "name": "stdout",
     "output_type": "stream",
     "text": [
      "star\n",
      "Donald Glover      1.410728e+09\n",
      "Daisy Ridley       9.545124e+08\n",
      "Craig T. Nelson    8.970009e+08\n",
      "Ellen DeGeneres    8.865709e+08\n",
      "Rami Malek         8.771007e+08\n",
      "                       ...     \n",
      "Bruce Greenwood   -5.307674e+07\n",
      "Lucas Till        -6.474151e+07\n",
      "Garry Shandling   -6.786440e+07\n",
      "Josh Lucas        -7.300850e+07\n",
      "Benjamin Bratt    -9.068164e+07\n",
      "Name: net_inflated, Length: 1136, dtype: float64\n"
     ]
    }
   ],
   "source": [
    "avg_net_profit_by_star = data.groupby('star')['net_inflated'].mean()\n",
    "sorted_star_net = avg_net_profit_by_star.sort_values(ascending=False)\n",
    "sorted_star_net.to_csv('sorted_average_net_profit_by_star.csv', header=True)\n",
    "print(sorted_star_net)"
   ]
  },
  {
   "cell_type": "code",
   "execution_count": 9,
   "id": "8b0faaed",
   "metadata": {},
   "outputs": [
    {
     "name": "stdout",
     "output_type": "stream",
     "text": [
      "company\n",
      "Marvel Studios                1.085526e+09\n",
      "Illumination Entertainment    1.082636e+09\n",
      "Lucasfilm                     9.522755e+08\n",
      "Fairview Entertainment        8.469638e+08\n",
      "Avi Arad Productions          7.712069e+08\n",
      "                                  ...     \n",
      "Capella International        -6.048047e+07\n",
      "Chris Lee Productions        -7.469016e+07\n",
      "Beijing New Picture Film     -1.039046e+08\n",
      "Hammerhead Productions       -1.112544e+08\n",
      "Tribeca Productions          -1.580311e+08\n",
      "Name: net_inflated, Length: 850, dtype: float64\n"
     ]
    }
   ],
   "source": [
    "avg_net_profit_by_company = data.groupby('company')['net_inflated'].mean()\n",
    "sorted_company_net = avg_net_profit_by_company.sort_values(ascending=False)\n",
    "sorted_company_net.to_csv('sorted_average_net_profit_by_company.csv', header=True)\n",
    "print(sorted_company_net)"
   ]
  },
  {
   "cell_type": "code",
   "execution_count": 10,
   "id": "48c48282",
   "metadata": {},
   "outputs": [
    {
     "name": "stdout",
     "output_type": "stream",
     "text": [
      "year  genre    \n",
      "2000  Action       1.120637e+08\n",
      "      Adventure    9.656362e+07\n",
      "      Animation    8.637203e+07\n",
      "      Biography    1.097776e+08\n",
      "      Comedy       5.045210e+07\n",
      "                       ...     \n",
      "2019  Crime        1.019427e+09\n",
      "      Drama        1.025787e+08\n",
      "      Fantasy      1.515026e+07\n",
      "      Horror       1.397590e+08\n",
      "      Thriller     2.859936e+07\n",
      "Name: net_inflated, Length: 186, dtype: float64\n"
     ]
    }
   ],
   "source": [
    "avg_net_profit_by_year_genre = data.groupby(['year', 'genre'])['net_inflated'].mean()\n",
    "avg_net_profit_by_year_genre.to_csv('average_net_profit_by_year_genre.csv', header=True)\n",
    "print(avg_net_profit_by_year_genre)"
   ]
  },
  {
   "cell_type": "code",
   "execution_count": 11,
   "id": "5f70b071",
   "metadata": {},
   "outputs": [
    {
     "name": "stdout",
     "output_type": "stream",
     "text": [
      "year  rating\n",
      "2000  G         1.204491e+08\n",
      "      PG        5.122657e+07\n",
      "      PG-13     9.265912e+07\n",
      "      R         4.059518e+07\n",
      "2001  G         2.514587e+08\n",
      "                    ...     \n",
      "2019  G         8.733946e+08\n",
      "      PG        2.479849e+08\n",
      "      PG-13     2.302174e+08\n",
      "      R         9.307966e+07\n",
      "      TV-MA     6.519925e+08\n",
      "Name: net_inflated, Length: 83, dtype: float64\n"
     ]
    }
   ],
   "source": [
    "avg_net_profit_by_year_rating = data.groupby(['year', 'rating'])['net_inflated'].mean()\n",
    "avg_net_profit_by_year_rating.to_csv('average_net_profit_by_year_rating.csv', header=True)\n",
    "print(avg_net_profit_by_year_rating)"
   ]
  },
  {
   "cell_type": "code",
   "execution_count": 12,
   "id": "0ed6a95e",
   "metadata": {},
   "outputs": [
    {
     "name": "stdout",
     "output_type": "stream",
     "text": [
      "year  Franchises\n",
      "2001  Yes           1.214394e+09\n",
      "2002  Yes           1.014555e+09\n",
      "2003  No            9.995494e+08\n",
      "      Yes           1.088575e+09\n",
      "2004  No            7.571216e+08\n",
      "      Yes           9.157945e+08\n",
      "2005  Yes           9.026258e+08\n",
      "2006  No            8.064588e+08\n",
      "      Yes           9.069542e+08\n",
      "2007  Yes           8.125944e+08\n",
      "2008  No            7.207282e+08\n",
      "      Yes           9.769586e+08\n",
      "2009  No            1.904871e+09\n",
      "      Yes           8.265949e+08\n",
      "2010  No            9.240176e+08\n",
      "      Yes           7.125839e+08\n",
      "2011  Yes           1.010050e+09\n",
      "2012  No            1.008512e+09\n",
      "      Yes           9.389395e+08\n",
      "2013  No            9.650854e+08\n",
      "      Yes           8.816010e+08\n",
      "2014  Yes           8.673679e+08\n",
      "2015  No            8.657907e+08\n",
      "      Yes           1.572261e+09\n",
      "2016  No            8.601821e+08\n",
      "      Yes           9.412764e+08\n",
      "2017  No            8.281217e+08\n",
      "      Yes           9.018162e+08\n",
      "2018  No            9.304409e+08\n",
      "      Yes           1.462591e+09\n",
      "2019  No            1.073289e+09\n",
      "      Yes           1.405554e+09\n",
      "Name: net_inflated, dtype: float64\n"
     ]
    }
   ],
   "source": [
    "avg_net_profit_by_year_franchise = franchise_data.groupby(['year', 'Franchises'])['net_inflated'].mean()\n",
    "avg_net_profit_by_year_franchise.to_csv('average_net_profit_by_year_franchise.csv', header=True)\n",
    "print(avg_net_profit_by_year_franchise)"
   ]
  },
  {
   "cell_type": "markdown",
   "id": "5179364c",
   "metadata": {},
   "source": [
    "## Modes"
   ]
  },
  {
   "cell_type": "code",
   "execution_count": 13,
   "id": "60d407e3",
   "metadata": {},
   "outputs": [
    {
     "name": "stdout",
     "output_type": "stream",
     "text": [
      "0    R\n",
      "Name: rating, dtype: object\n"
     ]
    }
   ],
   "source": [
    "rating_mode = data['rating'].mode()\n",
    "print(rating_mode)"
   ]
  },
  {
   "cell_type": "code",
   "execution_count": 14,
   "id": "262c4fd7",
   "metadata": {},
   "outputs": [
    {
     "name": "stdout",
     "output_type": "stream",
     "text": [
      "0    Action\n",
      "Name: genre, dtype: object\n"
     ]
    }
   ],
   "source": [
    "genre_mode = data['genre'].mode()\n",
    "print(genre_mode)"
   ]
  },
  {
   "cell_type": "code",
   "execution_count": 15,
   "id": "ac3a55b7",
   "metadata": {},
   "outputs": [
    {
     "name": "stdout",
     "output_type": "stream",
     "text": [
      "0    2002\n",
      "Name: year, dtype: int64\n"
     ]
    }
   ],
   "source": [
    "year_mode = data['year'].mode()\n",
    "print(year_mode)"
   ]
  },
  {
   "cell_type": "code",
   "execution_count": 16,
   "id": "168237c9",
   "metadata": {},
   "outputs": [
    {
     "name": "stdout",
     "output_type": "stream",
     "text": [
      "0    Clint Eastwood\n",
      "Name: director, dtype: object\n"
     ]
    }
   ],
   "source": [
    "director_mode = data['director'].mode()\n",
    "print(director_mode)"
   ]
  },
  {
   "cell_type": "code",
   "execution_count": 17,
   "id": "905f6ea6",
   "metadata": {},
   "outputs": [
    {
     "name": "stdout",
     "output_type": "stream",
     "text": [
      "0    Woody Allen\n",
      "Name: writer, dtype: object\n"
     ]
    }
   ],
   "source": [
    "writer_mode = data['writer'].mode()\n",
    "print(writer_mode)"
   ]
  },
  {
   "cell_type": "code",
   "execution_count": 18,
   "id": "b7bafdc8",
   "metadata": {},
   "outputs": [
    {
     "name": "stdout",
     "output_type": "stream",
     "text": [
      "0    Nicolas Cage\n",
      "Name: star, dtype: object\n"
     ]
    }
   ],
   "source": [
    "star_mode = data['star'].mode()\n",
    "print(star_mode)"
   ]
  },
  {
   "cell_type": "code",
   "execution_count": 19,
   "id": "2c67acd0",
   "metadata": {},
   "outputs": [
    {
     "name": "stdout",
     "output_type": "stream",
     "text": [
      "0    Universal Pictures\n",
      "Name: company, dtype: object\n"
     ]
    }
   ],
   "source": [
    "company_mode = data['company'].mode()\n",
    "print(company_mode)"
   ]
  },
  {
   "cell_type": "code",
   "execution_count": 20,
   "id": "1d2e3ec2",
   "metadata": {},
   "outputs": [
    {
     "name": "stdout",
     "output_type": "stream",
     "text": [
      "0    101\n",
      "Name: runtime, dtype: int64\n"
     ]
    }
   ],
   "source": [
    "runtime_mode = data['runtime'].mode()\n",
    "print(runtime_mode)"
   ]
  },
  {
   "cell_type": "code",
   "execution_count": 21,
   "id": "34732712",
   "metadata": {},
   "outputs": [
    {
     "name": "stdout",
     "output_type": "stream",
     "text": [
      "0    No\n",
      "Name: franchise, dtype: object\n"
     ]
    }
   ],
   "source": [
    "franchise_mode = data['franchise'].mode()\n",
    "print(franchise_mode)"
   ]
  },
  {
   "cell_type": "markdown",
   "id": "30855112",
   "metadata": {},
   "source": [
    "## Linear Regression"
   ]
  },
  {
   "cell_type": "code",
   "execution_count": 22,
   "id": "117699f7",
   "metadata": {},
   "outputs": [],
   "source": [
    "X = data_norm.loc[:,['budget _inflated']]\n",
    "y = data_norm.loc[:,['gross_inflated']]"
   ]
  },
  {
   "cell_type": "code",
   "execution_count": 23,
   "id": "d5e3746f",
   "metadata": {},
   "outputs": [],
   "source": [
    "from sklearn.model_selection import train_test_split\n",
    "\n",
    "X_train, X_test, y_train, y_test = train_test_split(X, y, test_size=0.2)"
   ]
  },
  {
   "cell_type": "code",
   "execution_count": 24,
   "id": "c5fa0835",
   "metadata": {},
   "outputs": [
    {
     "data": {
      "text/html": [
       "<style>#sk-container-id-1 {color: black;}#sk-container-id-1 pre{padding: 0;}#sk-container-id-1 div.sk-toggleable {background-color: white;}#sk-container-id-1 label.sk-toggleable__label {cursor: pointer;display: block;width: 100%;margin-bottom: 0;padding: 0.3em;box-sizing: border-box;text-align: center;}#sk-container-id-1 label.sk-toggleable__label-arrow:before {content: \"▸\";float: left;margin-right: 0.25em;color: #696969;}#sk-container-id-1 label.sk-toggleable__label-arrow:hover:before {color: black;}#sk-container-id-1 div.sk-estimator:hover label.sk-toggleable__label-arrow:before {color: black;}#sk-container-id-1 div.sk-toggleable__content {max-height: 0;max-width: 0;overflow: hidden;text-align: left;background-color: #f0f8ff;}#sk-container-id-1 div.sk-toggleable__content pre {margin: 0.2em;color: black;border-radius: 0.25em;background-color: #f0f8ff;}#sk-container-id-1 input.sk-toggleable__control:checked~div.sk-toggleable__content {max-height: 200px;max-width: 100%;overflow: auto;}#sk-container-id-1 input.sk-toggleable__control:checked~label.sk-toggleable__label-arrow:before {content: \"▾\";}#sk-container-id-1 div.sk-estimator input.sk-toggleable__control:checked~label.sk-toggleable__label {background-color: #d4ebff;}#sk-container-id-1 div.sk-label input.sk-toggleable__control:checked~label.sk-toggleable__label {background-color: #d4ebff;}#sk-container-id-1 input.sk-hidden--visually {border: 0;clip: rect(1px 1px 1px 1px);clip: rect(1px, 1px, 1px, 1px);height: 1px;margin: -1px;overflow: hidden;padding: 0;position: absolute;width: 1px;}#sk-container-id-1 div.sk-estimator {font-family: monospace;background-color: #f0f8ff;border: 1px dotted black;border-radius: 0.25em;box-sizing: border-box;margin-bottom: 0.5em;}#sk-container-id-1 div.sk-estimator:hover {background-color: #d4ebff;}#sk-container-id-1 div.sk-parallel-item::after {content: \"\";width: 100%;border-bottom: 1px solid gray;flex-grow: 1;}#sk-container-id-1 div.sk-label:hover label.sk-toggleable__label {background-color: #d4ebff;}#sk-container-id-1 div.sk-serial::before {content: \"\";position: absolute;border-left: 1px solid gray;box-sizing: border-box;top: 0;bottom: 0;left: 50%;z-index: 0;}#sk-container-id-1 div.sk-serial {display: flex;flex-direction: column;align-items: center;background-color: white;padding-right: 0.2em;padding-left: 0.2em;position: relative;}#sk-container-id-1 div.sk-item {position: relative;z-index: 1;}#sk-container-id-1 div.sk-parallel {display: flex;align-items: stretch;justify-content: center;background-color: white;position: relative;}#sk-container-id-1 div.sk-item::before, #sk-container-id-1 div.sk-parallel-item::before {content: \"\";position: absolute;border-left: 1px solid gray;box-sizing: border-box;top: 0;bottom: 0;left: 50%;z-index: -1;}#sk-container-id-1 div.sk-parallel-item {display: flex;flex-direction: column;z-index: 1;position: relative;background-color: white;}#sk-container-id-1 div.sk-parallel-item:first-child::after {align-self: flex-end;width: 50%;}#sk-container-id-1 div.sk-parallel-item:last-child::after {align-self: flex-start;width: 50%;}#sk-container-id-1 div.sk-parallel-item:only-child::after {width: 0;}#sk-container-id-1 div.sk-dashed-wrapped {border: 1px dashed gray;margin: 0 0.4em 0.5em 0.4em;box-sizing: border-box;padding-bottom: 0.4em;background-color: white;}#sk-container-id-1 div.sk-label label {font-family: monospace;font-weight: bold;display: inline-block;line-height: 1.2em;}#sk-container-id-1 div.sk-label-container {text-align: center;}#sk-container-id-1 div.sk-container {/* jupyter's `normalize.less` sets `[hidden] { display: none; }` but bootstrap.min.css set `[hidden] { display: none !important; }` so we also need the `!important` here to be able to override the default hidden behavior on the sphinx rendered scikit-learn.org. See: https://github.com/scikit-learn/scikit-learn/issues/21755 */display: inline-block !important;position: relative;}#sk-container-id-1 div.sk-text-repr-fallback {display: none;}</style><div id=\"sk-container-id-1\" class=\"sk-top-container\"><div class=\"sk-text-repr-fallback\"><pre>LinearRegression()</pre><b>In a Jupyter environment, please rerun this cell to show the HTML representation or trust the notebook. <br />On GitHub, the HTML representation is unable to render, please try loading this page with nbviewer.org.</b></div><div class=\"sk-container\" hidden><div class=\"sk-item\"><div class=\"sk-estimator sk-toggleable\"><input class=\"sk-toggleable__control sk-hidden--visually\" id=\"sk-estimator-id-1\" type=\"checkbox\" checked><label for=\"sk-estimator-id-1\" class=\"sk-toggleable__label sk-toggleable__label-arrow\">LinearRegression</label><div class=\"sk-toggleable__content\"><pre>LinearRegression()</pre></div></div></div></div></div>"
      ],
      "text/plain": [
       "LinearRegression()"
      ]
     },
     "execution_count": 24,
     "metadata": {},
     "output_type": "execute_result"
    }
   ],
   "source": [
    "from sklearn.linear_model import LinearRegression\n",
    "lin_reg_model = LinearRegression(fit_intercept=True)\n",
    "lin_reg_model.fit(X_train,y_train)"
   ]
  },
  {
   "cell_type": "code",
   "execution_count": 25,
   "id": "320c90b3",
   "metadata": {},
   "outputs": [
    {
     "name": "stdout",
     "output_type": "stream",
     "text": [
      "[-0.00480289]\n",
      "[[0.35187289]]\n"
     ]
    }
   ],
   "source": [
    "# Print slope and intercepts\n",
    "\n",
    "# Beta_0\n",
    "print(lin_reg_model.intercept_)\n",
    "# Beta_1\n",
    "print(lin_reg_model.coef_)"
   ]
  },
  {
   "cell_type": "code",
   "execution_count": 26,
   "id": "f7753e58",
   "metadata": {},
   "outputs": [
    {
     "name": "stdout",
     "output_type": "stream",
     "text": [
      "training error\n",
      "0.0022493540228341155\n",
      "testing error\n",
      "0.003562573340614798\n"
     ]
    }
   ],
   "source": [
    "# display the mean_squared_error of the model using training and testing data\n",
    "\n",
    "from sklearn.metrics import mean_squared_error\n",
    "print('training error')\n",
    "print(mean_squared_error(y_train,lin_reg_model.predict(X_train)))\n",
    "print('testing error')\n",
    "print(mean_squared_error(y_test,lin_reg_model.predict(X_test)))"
   ]
  },
  {
   "cell_type": "code",
   "execution_count": 27,
   "id": "beff222c",
   "metadata": {
    "scrolled": true
   },
   "outputs": [
    {
     "name": "stdout",
     "output_type": "stream",
     "text": [
      "48322970.48553446\n"
     ]
    }
   ],
   "source": [
    "# use the trained linear regression model in the real-world\n",
    "budget = 20000000\n",
    "norm_budget = (budget - budget_gross_df['budget _inflated'].min())/(budget_gross_df['budget _inflated'].max() - budget_gross_df['budget _inflated'].min())\n",
    "new_movie = pd.DataFrame({'budget _inflated': [norm_budget]})\n",
    "norm_predicted_gross = lin_reg_model.predict(new_movie)\n",
    "norm_predicted_gross_value = norm_predicted_gross[0][0]\n",
    "predicted_gross = norm_predicted_gross_value * (budget_gross_df['gross_inflated'].max() - budget_gross_df['gross_inflated'].min()) + budget_gross_df['gross_inflated'].min()\n",
    "print(predicted_gross)"
   ]
  },
  {
   "cell_type": "code",
   "execution_count": 28,
   "id": "ddcfa283",
   "metadata": {
    "scrolled": false
   },
   "outputs": [
    {
     "data": {
      "image/png": "[encoded data removed]",
      "text/plain": [
       "<Figure size 640x480 with 1 Axes>"
      ]
     },
     "metadata": {},
     "output_type": "display_data"
    }
   ],
   "source": [
    "# y_pred stores the predicted values using X_test as input\n",
    "y_pred = lin_reg_model.predict(X_test)\n",
    "\n",
    "# Plot X_train and y_train using a scatter plot; color them green\n",
    "# hint: plt.scatter(...)\n",
    "plt.scatter(X_train, y_train, color='green', label='Train Points')\n",
    "\n",
    "# Plot X_test and y_test using a scatter plot; color them red\n",
    "plt.scatter(X_test, y_test, color='blue', label='Test Points')\n",
    "\n",
    "# Plot the regression line\n",
    "plt.plot(X_test, y_pred, color='black', linewidth=2, label='Linear Regression Line')\n",
    "\n",
    "# Set labels and title\n",
    "plt.xlabel('Budget')\n",
    "plt.ylabel('Gross')\n",
    "plt.title('Simple Linear Regression of How the Budget of a Movie Affects the Gross')\n",
    "\n",
    "# Add a legend\n",
    "plt.legend()\n",
    "plt.grid()\n",
    "\n",
    "# Show the plot\n",
    "plt.show()"
   ]
  },
  {
   "cell_type": "code",
   "execution_count": 29,
   "id": "7fb4c29c",
   "metadata": {},
   "outputs": [
    {
     "name": "stderr",
     "output_type": "stream",
     "text": [
      "C:\\Users\\koeys\\AppData\\Local\\Temp\\ipykernel_16324\\444293912.py:2: MatplotlibDeprecationWarning: The seaborn styles shipped by Matplotlib are deprecated since 3.6, as they no longer correspond to the styles shipped by seaborn. However, they will remain available as 'seaborn-v0_8-<style>'. Alternatively, directly use the seaborn API instead.\n",
      "  plt.style.use('seaborn-whitegrid')\n"
     ]
    }
   ],
   "source": [
    "import seaborn as sns\n",
    "plt.style.use('seaborn-whitegrid')"
   ]
  },
  {
   "cell_type": "markdown",
   "id": "f01f9534",
   "metadata": {},
   "source": [
    "## Correlation"
   ]
  },
  {
   "cell_type": "code",
   "execution_count": 30,
   "id": "ad6979ed",
   "metadata": {},
   "outputs": [
    {
     "data": {
      "image/png": "[encoded data removed]",
      "text/plain": [
       "<Figure size 640x480 with 2 Axes>"
      ]
     },
     "metadata": {},
     "output_type": "display_data"
    }
   ],
   "source": [
    "data_features = data[['budget _inflated','gross_inflated','runtime','year']].copy()\n",
    "data_corr = data_features.corr()\n",
    "ax = sns.heatmap(\n",
    "    data_corr, \n",
    "    vmin=-1, vmax=1, center=0,\n",
    "    square=True\n",
    ")\n",
    "\n",
    "ax.set_xticklabels(\n",
    "    ax.get_xticklabels(),\n",
    "    rotation=45,\n",
    "    horizontalalignment='right'\n",
    ");"
   ]
  },
  {
   "cell_type": "code",
   "execution_count": null,
   "id": "f56fccb9",
   "metadata": {},
   "outputs": [],
   "source": []
  }
 ],
 "metadata": {
  "kernelspec": {
   "display_name": "Python 3 (ipykernel)",
   "language": "python",
   "name": "python3"
  },
  "language_info": {
   "codemirror_mode": {
    "name": "ipython",
    "version": 3
   },
   "file_extension": ".py",
   "mimetype": "text/x-python",
   "name": "python",
   "nbconvert_exporter": "python",
   "pygments_lexer": "ipython3",
   "version": "3.11.5"
  }
 },
 "nbformat": 4,
 "nbformat_minor": 5
}
